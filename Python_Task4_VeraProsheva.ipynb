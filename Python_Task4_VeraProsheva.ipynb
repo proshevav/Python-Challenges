{
  "nbformat": 4,
  "nbformat_minor": 0,
  "metadata": {
    "colab": {
      "provenance": []
    },
    "kernelspec": {
      "name": "python3",
      "display_name": "Python 3"
    },
    "language_info": {
      "name": "python"
    }
  },
  "cells": [
    {
      "cell_type": "markdown",
      "source": [
        "# Task 1 (3 points)\n",
        "\n",
        "The text and solution for the task from workshop 4 is given below.\n",
        "\n",
        "Your task is to try and understand the code and explain in one text box what each part of the code does.\n",
        "\n",
        "Then, think of one more functionality that is suitable using this data and add it to the solution.\n",
        "\n",
        "____________________________________\n",
        "\n",
        "You are given a DataFrame containing data about students’ scores in different subjects.\n",
        "\n",
        "The DataFrame has the following columns:\n",
        "\n",
        "    Name: Student's name\n",
        "    Math: Score in Math (out of 100)\n",
        "    Science: Score in Science (out of 100)\n",
        "    English: Score in English (out of 100)\n",
        "    History: Score in History (out of 100)\n",
        "    Class: The class or grade the student belongs to (e.g., 10, 11, 12)\n",
        "\n"
      ],
      "metadata": {
        "id": "Ufv1oESe59vI"
      }
    },
    {
      "cell_type": "code",
      "source": [
        "import pandas as pd"
      ],
      "metadata": {
        "id": "OBixFQ8uaryt"
      },
      "execution_count": null,
      "outputs": []
    },
    {
      "cell_type": "code",
      "source": [
        "data = {\n",
        "    'Name': ['Alice', 'Bob', 'Charlie', 'David', 'Eva', 'Frank', 'Grace', 'Henry'],\n",
        "    'Math': [88, 92, 70, 65, 85, 77, 90, 95],\n",
        "    'Science': [95, 88, 75, 80, 90, 70, 85, 93],\n",
        "    'English': [78, 82, 65, 70, 88, 80, 92, 87],\n",
        "    'History': [85, 78, 90, 72, 80, 88, 83, 91],\n",
        "    'Class': [10, 10, 11, 11, 12, 12, 10, 11]\n",
        "}\n",
        "\n",
        "df = pd.DataFrame(data)"
      ],
      "metadata": {
        "id": "Kudo0YwO6I1D"
      },
      "execution_count": null,
      "outputs": []
    },
    {
      "cell_type": "markdown",
      "source": [
        "Solve the following problems:\n"
      ],
      "metadata": {
        "id": "hgbOM3Zh6QRa"
      }
    },
    {
      "cell_type": "markdown",
      "source": [
        "1. Calculate Average Score for Each Student\n",
        "\n",
        "    Write a function average_score(df) that calculates the average score across all subjects (Math, Science, English, and History) for each student. Add a new column Average to store each student’s average score.\n",
        "\n",
        "2. Find Top Student in Each Class\n",
        "\n",
        "    Write a function top_student_in_class(df) that returns the name of the student with the highest average score in each class (10, 11, and 12). Use the Average column from the previous function.\n",
        "\n",
        "3. Calculate Class Averages by Subject\n",
        "\n",
        "    Write a function class_averages_by_subject(df) that calculates the average score for each class in each subject and returns the results as a new DataFrame with Class as the index and subject names as columns.\n",
        "\n",
        "4. Identify Students Needing Improvement\n",
        "\n",
        "    Write a function students_needing_improvement(df, threshold=70) that finds students with an average score below a given threshold (default is 70). The function should return a DataFrame with the names and average scores of these students.\n",
        "\n",
        "5. Rank Students by Total Score\n",
        "\n",
        "    Write a function rank_students(df) that ranks students based on their total score across all subjects. Add a Total Score column with the sum of scores in all subjects and a Rank column based on descending order of the total score."
      ],
      "metadata": {
        "id": "UliuQrCO6OWp"
      }
    },
    {
      "cell_type": "markdown",
      "source": [
        "### Solution"
      ],
      "metadata": {
        "id": "qe-MQXDb6paQ"
      }
    },
    {
      "cell_type": "code",
      "source": [
        "df"
      ],
      "metadata": {
        "colab": {
          "base_uri": "https://localhost:8080/",
          "height": 300
        },
        "id": "GUJ2QutCdZSq",
        "outputId": "fdec712e-6d6f-431d-b444-f4ab61fc056c"
      },
      "execution_count": null,
      "outputs": [
        {
          "output_type": "execute_result",
          "data": {
            "text/plain": [
              "      Name  Math  Science  English  History  Class\n",
              "0    Alice    88       95       78       85     10\n",
              "1      Bob    92       88       82       78     10\n",
              "2  Charlie    70       75       65       90     11\n",
              "3    David    65       80       70       72     11\n",
              "4      Eva    85       90       88       80     12\n",
              "5    Frank    77       70       80       88     12\n",
              "6    Grace    90       85       92       83     10\n",
              "7    Henry    95       93       87       91     11"
            ],
            "text/html": [
              "\n",
              "  <div id=\"df-00c89b54-6d91-42f2-a9cf-782480863a19\" class=\"colab-df-container\">\n",
              "    <div>\n",
              "<style scoped>\n",
              "    .dataframe tbody tr th:only-of-type {\n",
              "        vertical-align: middle;\n",
              "    }\n",
              "\n",
              "    .dataframe tbody tr th {\n",
              "        vertical-align: top;\n",
              "    }\n",
              "\n",
              "    .dataframe thead th {\n",
              "        text-align: right;\n",
              "    }\n",
              "</style>\n",
              "<table border=\"1\" class=\"dataframe\">\n",
              "  <thead>\n",
              "    <tr style=\"text-align: right;\">\n",
              "      <th></th>\n",
              "      <th>Name</th>\n",
              "      <th>Math</th>\n",
              "      <th>Science</th>\n",
              "      <th>English</th>\n",
              "      <th>History</th>\n",
              "      <th>Class</th>\n",
              "    </tr>\n",
              "  </thead>\n",
              "  <tbody>\n",
              "    <tr>\n",
              "      <th>0</th>\n",
              "      <td>Alice</td>\n",
              "      <td>88</td>\n",
              "      <td>95</td>\n",
              "      <td>78</td>\n",
              "      <td>85</td>\n",
              "      <td>10</td>\n",
              "    </tr>\n",
              "    <tr>\n",
              "      <th>1</th>\n",
              "      <td>Bob</td>\n",
              "      <td>92</td>\n",
              "      <td>88</td>\n",
              "      <td>82</td>\n",
              "      <td>78</td>\n",
              "      <td>10</td>\n",
              "    </tr>\n",
              "    <tr>\n",
              "      <th>2</th>\n",
              "      <td>Charlie</td>\n",
              "      <td>70</td>\n",
              "      <td>75</td>\n",
              "      <td>65</td>\n",
              "      <td>90</td>\n",
              "      <td>11</td>\n",
              "    </tr>\n",
              "    <tr>\n",
              "      <th>3</th>\n",
              "      <td>David</td>\n",
              "      <td>65</td>\n",
              "      <td>80</td>\n",
              "      <td>70</td>\n",
              "      <td>72</td>\n",
              "      <td>11</td>\n",
              "    </tr>\n",
              "    <tr>\n",
              "      <th>4</th>\n",
              "      <td>Eva</td>\n",
              "      <td>85</td>\n",
              "      <td>90</td>\n",
              "      <td>88</td>\n",
              "      <td>80</td>\n",
              "      <td>12</td>\n",
              "    </tr>\n",
              "    <tr>\n",
              "      <th>5</th>\n",
              "      <td>Frank</td>\n",
              "      <td>77</td>\n",
              "      <td>70</td>\n",
              "      <td>80</td>\n",
              "      <td>88</td>\n",
              "      <td>12</td>\n",
              "    </tr>\n",
              "    <tr>\n",
              "      <th>6</th>\n",
              "      <td>Grace</td>\n",
              "      <td>90</td>\n",
              "      <td>85</td>\n",
              "      <td>92</td>\n",
              "      <td>83</td>\n",
              "      <td>10</td>\n",
              "    </tr>\n",
              "    <tr>\n",
              "      <th>7</th>\n",
              "      <td>Henry</td>\n",
              "      <td>95</td>\n",
              "      <td>93</td>\n",
              "      <td>87</td>\n",
              "      <td>91</td>\n",
              "      <td>11</td>\n",
              "    </tr>\n",
              "  </tbody>\n",
              "</table>\n",
              "</div>\n",
              "    <div class=\"colab-df-buttons\">\n",
              "\n",
              "  <div class=\"colab-df-container\">\n",
              "    <button class=\"colab-df-convert\" onclick=\"convertToInteractive('df-00c89b54-6d91-42f2-a9cf-782480863a19')\"\n",
              "            title=\"Convert this dataframe to an interactive table.\"\n",
              "            style=\"display:none;\">\n",
              "\n",
              "  <svg xmlns=\"http://www.w3.org/2000/svg\" height=\"24px\" viewBox=\"0 -960 960 960\">\n",
              "    <path d=\"M120-120v-720h720v720H120Zm60-500h600v-160H180v160Zm220 220h160v-160H400v160Zm0 220h160v-160H400v160ZM180-400h160v-160H180v160Zm440 0h160v-160H620v160ZM180-180h160v-160H180v160Zm440 0h160v-160H620v160Z\"/>\n",
              "  </svg>\n",
              "    </button>\n",
              "\n",
              "  <style>\n",
              "    .colab-df-container {\n",
              "      display:flex;\n",
              "      gap: 12px;\n",
              "    }\n",
              "\n",
              "    .colab-df-convert {\n",
              "      background-color: #E8F0FE;\n",
              "      border: none;\n",
              "      border-radius: 50%;\n",
              "      cursor: pointer;\n",
              "      display: none;\n",
              "      fill: #1967D2;\n",
              "      height: 32px;\n",
              "      padding: 0 0 0 0;\n",
              "      width: 32px;\n",
              "    }\n",
              "\n",
              "    .colab-df-convert:hover {\n",
              "      background-color: #E2EBFA;\n",
              "      box-shadow: 0px 1px 2px rgba(60, 64, 67, 0.3), 0px 1px 3px 1px rgba(60, 64, 67, 0.15);\n",
              "      fill: #174EA6;\n",
              "    }\n",
              "\n",
              "    .colab-df-buttons div {\n",
              "      margin-bottom: 4px;\n",
              "    }\n",
              "\n",
              "    [theme=dark] .colab-df-convert {\n",
              "      background-color: #3B4455;\n",
              "      fill: #D2E3FC;\n",
              "    }\n",
              "\n",
              "    [theme=dark] .colab-df-convert:hover {\n",
              "      background-color: #434B5C;\n",
              "      box-shadow: 0px 1px 3px 1px rgba(0, 0, 0, 0.15);\n",
              "      filter: drop-shadow(0px 1px 2px rgba(0, 0, 0, 0.3));\n",
              "      fill: #FFFFFF;\n",
              "    }\n",
              "  </style>\n",
              "\n",
              "    <script>\n",
              "      const buttonEl =\n",
              "        document.querySelector('#df-00c89b54-6d91-42f2-a9cf-782480863a19 button.colab-df-convert');\n",
              "      buttonEl.style.display =\n",
              "        google.colab.kernel.accessAllowed ? 'block' : 'none';\n",
              "\n",
              "      async function convertToInteractive(key) {\n",
              "        const element = document.querySelector('#df-00c89b54-6d91-42f2-a9cf-782480863a19');\n",
              "        const dataTable =\n",
              "          await google.colab.kernel.invokeFunction('convertToInteractive',\n",
              "                                                    [key], {});\n",
              "        if (!dataTable) return;\n",
              "\n",
              "        const docLinkHtml = 'Like what you see? Visit the ' +\n",
              "          '<a target=\"_blank\" href=https://colab.research.google.com/notebooks/data_table.ipynb>data table notebook</a>'\n",
              "          + ' to learn more about interactive tables.';\n",
              "        element.innerHTML = '';\n",
              "        dataTable['output_type'] = 'display_data';\n",
              "        await google.colab.output.renderOutput(dataTable, element);\n",
              "        const docLink = document.createElement('div');\n",
              "        docLink.innerHTML = docLinkHtml;\n",
              "        element.appendChild(docLink);\n",
              "      }\n",
              "    </script>\n",
              "  </div>\n",
              "\n",
              "\n",
              "<div id=\"df-107ed1e7-191d-466e-b305-38fce66c98f3\">\n",
              "  <button class=\"colab-df-quickchart\" onclick=\"quickchart('df-107ed1e7-191d-466e-b305-38fce66c98f3')\"\n",
              "            title=\"Suggest charts\"\n",
              "            style=\"display:none;\">\n",
              "\n",
              "<svg xmlns=\"http://www.w3.org/2000/svg\" height=\"24px\"viewBox=\"0 0 24 24\"\n",
              "     width=\"24px\">\n",
              "    <g>\n",
              "        <path d=\"M19 3H5c-1.1 0-2 .9-2 2v14c0 1.1.9 2 2 2h14c1.1 0 2-.9 2-2V5c0-1.1-.9-2-2-2zM9 17H7v-7h2v7zm4 0h-2V7h2v10zm4 0h-2v-4h2v4z\"/>\n",
              "    </g>\n",
              "</svg>\n",
              "  </button>\n",
              "\n",
              "<style>\n",
              "  .colab-df-quickchart {\n",
              "      --bg-color: #E8F0FE;\n",
              "      --fill-color: #1967D2;\n",
              "      --hover-bg-color: #E2EBFA;\n",
              "      --hover-fill-color: #174EA6;\n",
              "      --disabled-fill-color: #AAA;\n",
              "      --disabled-bg-color: #DDD;\n",
              "  }\n",
              "\n",
              "  [theme=dark] .colab-df-quickchart {\n",
              "      --bg-color: #3B4455;\n",
              "      --fill-color: #D2E3FC;\n",
              "      --hover-bg-color: #434B5C;\n",
              "      --hover-fill-color: #FFFFFF;\n",
              "      --disabled-bg-color: #3B4455;\n",
              "      --disabled-fill-color: #666;\n",
              "  }\n",
              "\n",
              "  .colab-df-quickchart {\n",
              "    background-color: var(--bg-color);\n",
              "    border: none;\n",
              "    border-radius: 50%;\n",
              "    cursor: pointer;\n",
              "    display: none;\n",
              "    fill: var(--fill-color);\n",
              "    height: 32px;\n",
              "    padding: 0;\n",
              "    width: 32px;\n",
              "  }\n",
              "\n",
              "  .colab-df-quickchart:hover {\n",
              "    background-color: var(--hover-bg-color);\n",
              "    box-shadow: 0 1px 2px rgba(60, 64, 67, 0.3), 0 1px 3px 1px rgba(60, 64, 67, 0.15);\n",
              "    fill: var(--button-hover-fill-color);\n",
              "  }\n",
              "\n",
              "  .colab-df-quickchart-complete:disabled,\n",
              "  .colab-df-quickchart-complete:disabled:hover {\n",
              "    background-color: var(--disabled-bg-color);\n",
              "    fill: var(--disabled-fill-color);\n",
              "    box-shadow: none;\n",
              "  }\n",
              "\n",
              "  .colab-df-spinner {\n",
              "    border: 2px solid var(--fill-color);\n",
              "    border-color: transparent;\n",
              "    border-bottom-color: var(--fill-color);\n",
              "    animation:\n",
              "      spin 1s steps(1) infinite;\n",
              "  }\n",
              "\n",
              "  @keyframes spin {\n",
              "    0% {\n",
              "      border-color: transparent;\n",
              "      border-bottom-color: var(--fill-color);\n",
              "      border-left-color: var(--fill-color);\n",
              "    }\n",
              "    20% {\n",
              "      border-color: transparent;\n",
              "      border-left-color: var(--fill-color);\n",
              "      border-top-color: var(--fill-color);\n",
              "    }\n",
              "    30% {\n",
              "      border-color: transparent;\n",
              "      border-left-color: var(--fill-color);\n",
              "      border-top-color: var(--fill-color);\n",
              "      border-right-color: var(--fill-color);\n",
              "    }\n",
              "    40% {\n",
              "      border-color: transparent;\n",
              "      border-right-color: var(--fill-color);\n",
              "      border-top-color: var(--fill-color);\n",
              "    }\n",
              "    60% {\n",
              "      border-color: transparent;\n",
              "      border-right-color: var(--fill-color);\n",
              "    }\n",
              "    80% {\n",
              "      border-color: transparent;\n",
              "      border-right-color: var(--fill-color);\n",
              "      border-bottom-color: var(--fill-color);\n",
              "    }\n",
              "    90% {\n",
              "      border-color: transparent;\n",
              "      border-bottom-color: var(--fill-color);\n",
              "    }\n",
              "  }\n",
              "</style>\n",
              "\n",
              "  <script>\n",
              "    async function quickchart(key) {\n",
              "      const quickchartButtonEl =\n",
              "        document.querySelector('#' + key + ' button');\n",
              "      quickchartButtonEl.disabled = true;  // To prevent multiple clicks.\n",
              "      quickchartButtonEl.classList.add('colab-df-spinner');\n",
              "      try {\n",
              "        const charts = await google.colab.kernel.invokeFunction(\n",
              "            'suggestCharts', [key], {});\n",
              "      } catch (error) {\n",
              "        console.error('Error during call to suggestCharts:', error);\n",
              "      }\n",
              "      quickchartButtonEl.classList.remove('colab-df-spinner');\n",
              "      quickchartButtonEl.classList.add('colab-df-quickchart-complete');\n",
              "    }\n",
              "    (() => {\n",
              "      let quickchartButtonEl =\n",
              "        document.querySelector('#df-107ed1e7-191d-466e-b305-38fce66c98f3 button');\n",
              "      quickchartButtonEl.style.display =\n",
              "        google.colab.kernel.accessAllowed ? 'block' : 'none';\n",
              "    })();\n",
              "  </script>\n",
              "</div>\n",
              "    </div>\n",
              "  </div>\n"
            ],
            "application/vnd.google.colaboratory.intrinsic+json": {
              "type": "dataframe",
              "variable_name": "df",
              "summary": "{\n  \"name\": \"df\",\n  \"rows\": 8,\n  \"fields\": [\n    {\n      \"column\": \"Name\",\n      \"properties\": {\n        \"dtype\": \"string\",\n        \"num_unique_values\": 8,\n        \"samples\": [\n          \"Bob\",\n          \"Frank\",\n          \"Alice\"\n        ],\n        \"semantic_type\": \"\",\n        \"description\": \"\"\n      }\n    },\n    {\n      \"column\": \"Math\",\n      \"properties\": {\n        \"dtype\": \"number\",\n        \"std\": 10,\n        \"min\": 65,\n        \"max\": 95,\n        \"num_unique_values\": 8,\n        \"samples\": [\n          92,\n          77,\n          88\n        ],\n        \"semantic_type\": \"\",\n        \"description\": \"\"\n      }\n    },\n    {\n      \"column\": \"Science\",\n      \"properties\": {\n        \"dtype\": \"number\",\n        \"std\": 8,\n        \"min\": 70,\n        \"max\": 95,\n        \"num_unique_values\": 8,\n        \"samples\": [\n          88,\n          70,\n          95\n        ],\n        \"semantic_type\": \"\",\n        \"description\": \"\"\n      }\n    },\n    {\n      \"column\": \"English\",\n      \"properties\": {\n        \"dtype\": \"number\",\n        \"std\": 9,\n        \"min\": 65,\n        \"max\": 92,\n        \"num_unique_values\": 8,\n        \"samples\": [\n          82,\n          80,\n          78\n        ],\n        \"semantic_type\": \"\",\n        \"description\": \"\"\n      }\n    },\n    {\n      \"column\": \"History\",\n      \"properties\": {\n        \"dtype\": \"number\",\n        \"std\": 6,\n        \"min\": 72,\n        \"max\": 91,\n        \"num_unique_values\": 8,\n        \"samples\": [\n          78,\n          88,\n          85\n        ],\n        \"semantic_type\": \"\",\n        \"description\": \"\"\n      }\n    },\n    {\n      \"column\": \"Class\",\n      \"properties\": {\n        \"dtype\": \"number\",\n        \"std\": 0,\n        \"min\": 10,\n        \"max\": 12,\n        \"num_unique_values\": 3,\n        \"samples\": [\n          10,\n          11,\n          12\n        ],\n        \"semantic_type\": \"\",\n        \"description\": \"\"\n      }\n    }\n  ]\n}"
            }
          },
          "metadata": {},
          "execution_count": 3
        }
      ]
    },
    {
      "cell_type": "code",
      "source": [
        "def average_score(df):\n",
        "    df['Average'] = df[['Math', 'Science', 'English', 'History']].mean(axis=1)\n",
        "    return df"
      ],
      "metadata": {
        "id": "EvBX0hWF6LOQ"
      },
      "execution_count": null,
      "outputs": []
    },
    {
      "cell_type": "code",
      "source": [
        "def top_student_in_class(df):\n",
        "    top_students = df.loc[df.groupby('Class')['Average'].idxmax()][['Class', 'Name', 'Average']]\n",
        "    return top_students"
      ],
      "metadata": {
        "id": "TBGo9l7a601T"
      },
      "execution_count": null,
      "outputs": []
    },
    {
      "cell_type": "code",
      "source": [
        "def class_averages_by_subject(df):\n",
        "    class_avg = df.groupby('Class')[['Math', 'Science', 'English', 'History']].mean()\n",
        "    return class_avg"
      ],
      "metadata": {
        "id": "3l1ML3mk62df"
      },
      "execution_count": null,
      "outputs": []
    },
    {
      "cell_type": "code",
      "source": [
        "def students_needing_improvement(df, threshold=70):\n",
        "    underperforming = df[df['Average'] < threshold][['Name', 'Average']]\n",
        "    return underperforming"
      ],
      "metadata": {
        "id": "YQ7hY3LZ633i"
      },
      "execution_count": null,
      "outputs": []
    },
    {
      "cell_type": "code",
      "source": [
        "def rank_students(df):\n",
        "    df['Total Score'] = df[['Math', 'Science', 'English', 'History']].sum(axis=1)\n",
        "    print(\"Total Scores:\\n\", df[['Name', 'Total Score']])\n",
        "\n",
        "    df = df.sort_values(by='Total Score', ascending=False).reset_index(drop=True)\n",
        "    print(\"\\nDataFrame after sorting by Total Score:\\n\", df[['Name', 'Total Score']])\n",
        "\n",
        "    df['Rank'] = df.index + 1\n",
        "    print(\"\\nDataFrame with assigned ranks:\\n\", df[['Name', 'Total Score', 'Rank']])\n",
        "\n",
        "    return df"
      ],
      "metadata": {
        "id": "C2khJ8xc65Vi"
      },
      "execution_count": null,
      "outputs": []
    },
    {
      "cell_type": "code",
      "source": [
        "df_with_avg = average_score(df.copy())\n",
        "print(\"DataFrame with Average Scores:\\n\", df_with_avg)\n",
        "\n",
        "top_students = top_student_in_class(df_with_avg)\n",
        "print(\"\\nTop Student in Each Class:\\n\", top_students)\n",
        "\n",
        "class_avg = class_averages_by_subject(df.copy())\n",
        "print(\"\\nClass Averages by Subject:\\n\", class_avg)\n",
        "\n",
        "students_below_80 = students_needing_improvement(df_with_avg, threshold=80)\n",
        "print(\"\\nStudents Needing Improvement (average score < 80):\\n\", students_below_80)\n",
        "\n",
        "df_ranked = rank_students(df.copy())\n",
        "print(\"\\nDataFrame with Ranked Students:\\n\", df_ranked)"
      ],
      "metadata": {
        "colab": {
          "base_uri": "https://localhost:8080/"
        },
        "id": "7rSdJCiz66u6",
        "outputId": "e8c60ff8-9dd5-49b9-b2b8-8bef5ab1d46a"
      },
      "execution_count": null,
      "outputs": [
        {
          "output_type": "stream",
          "name": "stdout",
          "text": [
            "DataFrame with Average Scores:\n",
            "       Name  Math  Science  English  History  Class  Average\n",
            "0    Alice    88       95       78       85     10    86.50\n",
            "1      Bob    92       88       82       78     10    85.00\n",
            "2  Charlie    70       75       65       90     11    75.00\n",
            "3    David    65       80       70       72     11    71.75\n",
            "4      Eva    85       90       88       80     12    85.75\n",
            "5    Frank    77       70       80       88     12    78.75\n",
            "6    Grace    90       85       92       83     10    87.50\n",
            "7    Henry    95       93       87       91     11    91.50\n",
            "\n",
            "Top Student in Each Class:\n",
            "    Class   Name  Average\n",
            "6     10  Grace    87.50\n",
            "7     11  Henry    91.50\n",
            "4     12    Eva    85.75\n",
            "\n",
            "Class Averages by Subject:\n",
            "             Math    Science  English    History\n",
            "Class                                          \n",
            "10     90.000000  89.333333     84.0  82.000000\n",
            "11     76.666667  82.666667     74.0  84.333333\n",
            "12     81.000000  80.000000     84.0  84.000000\n",
            "\n",
            "Students Needing Improvement (average score < 80):\n",
            "       Name  Average\n",
            "2  Charlie    75.00\n",
            "3    David    71.75\n",
            "5    Frank    78.75\n",
            "Total Scores:\n",
            "       Name  Total Score\n",
            "0    Alice          346\n",
            "1      Bob          340\n",
            "2  Charlie          300\n",
            "3    David          287\n",
            "4      Eva          343\n",
            "5    Frank          315\n",
            "6    Grace          350\n",
            "7    Henry          366\n",
            "\n",
            "DataFrame after sorting by Total Score:\n",
            "       Name  Total Score\n",
            "0    Henry          366\n",
            "1    Grace          350\n",
            "2    Alice          346\n",
            "3      Eva          343\n",
            "4      Bob          340\n",
            "5    Frank          315\n",
            "6  Charlie          300\n",
            "7    David          287\n",
            "\n",
            "DataFrame with assigned ranks:\n",
            "       Name  Total Score  Rank\n",
            "0    Henry          366     1\n",
            "1    Grace          350     2\n",
            "2    Alice          346     3\n",
            "3      Eva          343     4\n",
            "4      Bob          340     5\n",
            "5    Frank          315     6\n",
            "6  Charlie          300     7\n",
            "7    David          287     8\n",
            "\n",
            "DataFrame with Ranked Students:\n",
            "       Name  Math  Science  English  History  Class  Total Score  Rank\n",
            "0    Henry    95       93       87       91     11          366     1\n",
            "1    Grace    90       85       92       83     10          350     2\n",
            "2    Alice    88       95       78       85     10          346     3\n",
            "3      Eva    85       90       88       80     12          343     4\n",
            "4      Bob    92       88       82       78     10          340     5\n",
            "5    Frank    77       70       80       88     12          315     6\n",
            "6  Charlie    70       75       65       90     11          300     7\n",
            "7    David    65       80       70       72     11          287     8\n"
          ]
        }
      ]
    },
    {
      "cell_type": "markdown",
      "source": [
        "### Solution"
      ],
      "metadata": {
        "id": "bXgr1POZnQPZ"
      }
    },
    {
      "cell_type": "markdown",
      "source": [
        "Explain what each part of the code does\n",
        "\n",
        "1. The function average_score(df) calculates the average score for each student for all four subjects (Math, Science, English and History). The result is stored in a new column Average for each students average score. The average is calculated with .mean(axis=1) which calculates the mean for each row.\n",
        "\n",
        "2. The function top_student_in_class(df) returns the top student in each class (10, 11 and 12) with the highest average score. By using the average column from the previous function, we groupby('Class') to group the data by class and then with idxmax() we the index of the student with the highest average score.\n",
        "\n",
        "3. The function class_averages_by_subject(df) calculates the average score for each class in each subject. We groupby('Class') to group the data foreach class by selecting the four subjects. The average is calculated with .mean() for each subject within each class.\n",
        "\n",
        "4. The function students_needing_improvement(df, threshold=70) finds students with an average score below a given threshold where default is 70. We find those students by checking where the value in column Average is less than the threshold (70). This returns the Name and Average for underperfoming students.\n",
        "\n",
        "5. The function rank_students(df) that ranks students based on their total score across all subjects. We add new column Total Score where we sum the values for all four subjects for each student (row) which is achieved with sum(axis=1). By setting the ascending to false, we sort the students scores by descending order. We then create a new column Rank that assigns ranks to the students. Since the index starts from 0, with df.index + 1 we add 1 to get the correct rank.\n",
        "\n",
        "6. I added additional functionality that counts number of students per class. We create a new column Number of Students with the value_counts() to count the number of students for each class. We use the map() to apply the value to the Class column."
      ],
      "metadata": {
        "id": "r6QooLNDl8p6"
      }
    },
    {
      "cell_type": "code",
      "source": [
        "def students_per_class_count(df):\n",
        "    df['Number of Students'] = df['Class'].map(df['Class'].value_counts())\n",
        "    return df"
      ],
      "metadata": {
        "id": "istJm-I7Symw"
      },
      "execution_count": null,
      "outputs": []
    },
    {
      "cell_type": "code",
      "source": [
        "students_count = students_per_class_count(df.copy())\n",
        "print(\"DataFrame with Number of Students in each Class:\\n\", students_count)"
      ],
      "metadata": {
        "colab": {
          "base_uri": "https://localhost:8080/"
        },
        "id": "SlpkrALdTakA",
        "outputId": "c3370e0a-fcaa-4ff5-af8e-cf194f2c3d4b"
      },
      "execution_count": null,
      "outputs": [
        {
          "output_type": "stream",
          "name": "stdout",
          "text": [
            "DataFrame with Number of Students in each Class:\n",
            "       Name  Math  Science  English  History  Class  Number of Students\n",
            "0    Alice    88       95       78       85     10                   3\n",
            "1      Bob    92       88       82       78     10                   3\n",
            "2  Charlie    70       75       65       90     11                   3\n",
            "3    David    65       80       70       72     11                   3\n",
            "4      Eva    85       90       88       80     12                   2\n",
            "5    Frank    77       70       80       88     12                   2\n",
            "6    Grace    90       85       92       83     10                   3\n",
            "7    Henry    95       93       87       91     11                   3\n"
          ]
        }
      ]
    },
    {
      "cell_type": "markdown",
      "metadata": {
        "id": "1fb777c7"
      },
      "source": [
        "# Task 2 (5 points + 2 bonus points)\n",
        "\n",
        "You are analyzing climate data collected from various cities over a 10-day period.\n",
        "\n",
        "The data includes:\n",
        "\n",
        "- **Cities**: A list of 6 city names.\n",
        "- **Temperature Data**: A NumPy array of shape (10, 6) representing daily average temperatures (in °C) for each city.\n",
        "- **Humidity Data**: A second NumPy array of shape (10, 6) representing daily average humidity levels (as percentages) for each city.\n",
        "\n",
        "\n",
        "\n"
      ]
    },
    {
      "cell_type": "markdown",
      "source": [
        "Tasks:\n",
        "\n",
        "- **Total Temperature and Humidity Per City**\n",
        "    Write a function total_temp_and_humidity_per_city(temp_df, humidity_df) that calculates the total temperature and total humidity for each city over the 10 days. Return a DataFrame where each row represents a city and contains two columns: total temperature and total humidity.\n",
        "\n",
        "- **Average Daily Conditions**\n",
        "    Write a function average_daily_conditions(temp_df, humidity_df) that calculates the average temperature and average humidity per day across all cities. Return a DataFrame where each row represents a day and contains two columns: average temperature and average humidity.\n",
        "\n",
        "- **Hottest and Most Humid City Each Day**\n",
        "    Write a function extreme_conditions_each_day(temp_df, humidity_df) that identifies both the hottest city and the most humid city for each day. Return a DataFrame with columns for each day’s hottest city and most humid city.\n",
        "\n",
        "- **Normalized Temperature and Humidity**\n",
        "    Write a function normalized_temp_and_humidity(temp_df, humidity_df) that normalizes both temperature and humidity values for each city across the 10 days (scaling values between 0 and 1 for each city). Return two normalized DataFrames, one for temperature and one for humidity.\n",
        "\n",
        "- **Days with Temperature-Humidity Discrepancies**\n",
        "    Write a function temp_humidity_discrepancies(temp_df, humidity_df, threshold) that finds days where the absolute difference between temperature and humidity (for each city) exceeds a specified threshold. Return a dictionary where each city is a key, and the value is a list of days where this discrepancy occurs.\n",
        "\n",
        "- **Bonus Task: Overall Climate Pattern Detection**\n",
        "    Write a function climate_pattern_detection(temp_df, humidity_df) that categorizes each day based on the average temperature and humidity as one of the following: \"Hot and Dry\", \"Hot and Humid\", \"Cold and Dry\", or \"Cold and Humid\". Use thresholds of 20°C for temperature and 60% for humidity to define \"hot\" versus \"cold\" and \"humid\" versus \"dry.\" Return a pandas Series where each entry is the category for that day."
      ],
      "metadata": {
        "id": "O_NWGT8MdfFo"
      }
    },
    {
      "cell_type": "code",
      "source": [
        "import numpy as np\n",
        "import pandas as pd\n",
        "\n",
        "cities = [\"City A\", \"City B\", \"City C\", \"City D\", \"City E\", \"City F\"]\n",
        "temperature_data = np.random.randint(-5, 35, size=(10, 6))\n",
        "humidity_data = np.random.randint(30, 90, size=(10, 6))\n",
        "\n",
        "temp_df = pd.DataFrame(temperature_data, columns=cities)\n",
        "humidity_df = pd.DataFrame(humidity_data, columns=cities)"
      ],
      "metadata": {
        "id": "tJiZePmheIie"
      },
      "execution_count": 1,
      "outputs": []
    },
    {
      "cell_type": "markdown",
      "source": [
        "### Solution"
      ],
      "metadata": {
        "id": "eYbZjEpjx8Qb"
      }
    },
    {
      "cell_type": "code",
      "source": [
        "def total_temp_and_humidity_per_city(temp_df, humidity_df):\n",
        "\n",
        "    total_temp = temp_df.sum(axis=0) #calculate total temp with sum by axis 0 for each column per city\n",
        "    total_humidity = humidity_df.sum(axis=0) #calculate total humidity with sum by axis 0 for each column per city\n",
        "\n",
        "    result_df = pd.DataFrame({\n",
        "        'Total Temperature': total_temp,\n",
        "        'Total Humidity': total_humidity\n",
        "    })\n",
        "\n",
        "    return result_df"
      ],
      "metadata": {
        "id": "EN67BUejeQ91"
      },
      "execution_count": 9,
      "outputs": []
    },
    {
      "cell_type": "code",
      "source": [
        "def average_daily_conditions(temp_df, humidity_df):\n",
        "\n",
        "    avg_temp = temp_df.mean(axis=1) #calculate avg temp with mean by axis 1 for each row daily\n",
        "    avg_humidity = humidity_df.mean(axis=1) #calculate avg humidity with mean by axis 1 for each row daily\n",
        "\n",
        "    result_df = pd.DataFrame({\n",
        "        'Average Temperature': avg_temp,\n",
        "        'Average Humidity': avg_humidity\n",
        "    })\n",
        "\n",
        "    return result_df"
      ],
      "metadata": {
        "id": "TN8D6wtKMA2r"
      },
      "execution_count": 10,
      "outputs": []
    },
    {
      "cell_type": "code",
      "source": [
        "def extreme_conditions_each_day(temp_df, humidity_df):\n",
        "\n",
        "    hottest_cities = temp_df.idxmax(axis=1) #get hottest city with idxmax by axis 1 for each row daily\n",
        "    most_humid_cities = humidity_df.idxmax(axis=1) #get most humid city with idxmax by axis 1 for each row daily\n",
        "\n",
        "    result_df = pd.DataFrame({\n",
        "        'Hottest City': hottest_cities,\n",
        "        'Most Humid City': most_humid_cities\n",
        "    })\n",
        "\n",
        "    return result_df"
      ],
      "metadata": {
        "id": "v-h7cNA9NYj9"
      },
      "execution_count": 11,
      "outputs": []
    },
    {
      "cell_type": "code",
      "source": [
        "def normalized_temp_and_humidity(temp_df, humidity_df):\n",
        "\n",
        "    normalized_temp_df = temp_df.apply(lambda x: (x - x.min()) / (x.max() - x.min()), axis=0) #nrmalize the temperature by dividing by the range max - min for each column (axis=0)\n",
        "    normalized_humidity_df = humidity_df.apply(lambda x: (x - x.min()) / (x.max() - x.min()), axis=0) #nrmalize the humidity by dividing by the range max - min for each column (axis=0)\n",
        "\n",
        "    return normalized_temp_df, normalized_humidity_df"
      ],
      "metadata": {
        "id": "4vjSFAUhVokn"
      },
      "execution_count": 13,
      "outputs": []
    },
    {
      "cell_type": "code",
      "source": [
        "def temp_humidity_discrepancies(temp_df, humidity_df, threshold):\n",
        "    discrepancies = {}\n",
        "\n",
        "    for city in temp_df.columns: #iterate through each city\n",
        "        abs_diff = abs(temp_df[city] - humidity_df[city]) #calculate abs difference between temperature and humidity\n",
        "        discrepant_days = abs_diff[abs_diff > threshold].index.tolist() #check days where the absolute difference is bigger than the threshold\n",
        "        discrepancies[city] = discrepant_days\n",
        "\n",
        "    return discrepancies"
      ],
      "metadata": {
        "id": "g-1fhNwOXIuF"
      },
      "execution_count": 15,
      "outputs": []
    },
    {
      "cell_type": "code",
      "source": [
        "def climate_pattern_detection(temp_df, humidity_df):\n",
        "\n",
        "    avg_temp = temp_df.mean(axis=1) #calculate avg temperature with mean by axis 1 for each row daily\n",
        "    avg_humidity = humidity_df.mean(axis=1) #calculate avg humidity with mean by axis 1 for each row daily\n",
        "\n",
        "    def categorize_day(temp, humidity): #categorization cases\n",
        "        if temp >= 20 and humidity < 60:\n",
        "            return \"Hot and Dry\"\n",
        "        elif temp >= 20 and humidity >= 60:\n",
        "            return \"Hot and Humid\"\n",
        "        elif temp < 20 and humidity < 60:\n",
        "            return \"Cold and Dry\"\n",
        "        else:\n",
        "            return \"Cold and Humid\"\n",
        "\n",
        "    categories = avg_temp.combine(avg_humidity, categorize_day)\n",
        "    return pd.Series(categories, name=\"Climate Category\") #return series"
      ],
      "metadata": {
        "id": "iD23H_vR32Oy"
      },
      "execution_count": 14,
      "outputs": []
    },
    {
      "cell_type": "code",
      "source": [
        "print(temp_df)\n",
        "print(humidity_df)\n",
        "\n",
        "total_conditions = total_temp_and_humidity_per_city(temp_df, humidity_df)\n",
        "print(\"\\nTotal Temperature and Humidity Per City:\")\n",
        "print(total_conditions)\n",
        "\n",
        "average_conditions = average_daily_conditions(temp_df, humidity_df)\n",
        "print(\"\\nAverage Daily Conditions:\")\n",
        "print(average_conditions)\n",
        "\n",
        "extreme_conditions = extreme_conditions_each_day(temp_df, humidity_df)\n",
        "print(\"\\nExtreme Conditions each day:\")\n",
        "print(extreme_conditions)\n",
        "\n",
        "normalized_temp_df, normalized_humidity_df = normalized_temp_and_humidity(temp_df, humidity_df)\n",
        "print(\"\\nData Frame for Normalized Temperature Data:\")\n",
        "print(normalized_temp_df)\n",
        "print(\"\\nData Frame for Normalized Humidity Data:\")\n",
        "print(normalized_humidity_df)\n",
        "\n",
        "discrepancies = temp_humidity_discrepancies(temp_df, humidity_df, 20)\n",
        "print(\"\\nDays with Temperature-Humidity Discrepancies:\")\n",
        "for city, days in discrepancies.items():\n",
        "    print(f\"{city}: {days}\")\n",
        "\n",
        "climate_categories = climate_pattern_detection(temp_df, humidity_df)\n",
        "print(\"\\nOverall Climate Pattern Detection:\")\n",
        "print(climate_categories)"
      ],
      "metadata": {
        "colab": {
          "base_uri": "https://localhost:8080/"
        },
        "id": "RQHiD_fFMDxq",
        "outputId": "7c16189d-1dd4-4148-d2d1-778a41c7edf9"
      },
      "execution_count": 16,
      "outputs": [
        {
          "output_type": "stream",
          "name": "stdout",
          "text": [
            "   City A  City B  City C  City D  City E  City F\n",
            "0       0      29      10      34      21       0\n",
            "1      -4      25       0       8       9      15\n",
            "2      13      -5      29      17       1      29\n",
            "3      -4      25       9      26       8      15\n",
            "4       3      17      31      20       1      -4\n",
            "5       9       2      14      13      29       0\n",
            "6      31      -3      14       5      24      28\n",
            "7       3      14      22      24      20      30\n",
            "8       5       7      27      19       5      21\n",
            "9      33      -4      -4      14      -3      28\n",
            "   City A  City B  City C  City D  City E  City F\n",
            "0      85      49      39      47      39      69\n",
            "1      87      45      75      56      43      77\n",
            "2      72      32      51      79      75      52\n",
            "3      75      85      40      71      35      79\n",
            "4      44      59      32      53      42      72\n",
            "5      76      60      66      87      51      47\n",
            "6      87      42      58      87      39      85\n",
            "7      47      47      36      87      48      74\n",
            "8      87      69      62      44      60      66\n",
            "9      72      43      43      55      33      75\n",
            "\n",
            "Total Temperature and Humidity Per City:\n",
            "        Total Temperature  Total Humidity\n",
            "City A                 89             732\n",
            "City B                107             531\n",
            "City C                152             502\n",
            "City D                180             666\n",
            "City E                115             465\n",
            "City F                162             696\n",
            "\n",
            "Average Daily Conditions:\n",
            "   Average Temperature  Average Humidity\n",
            "0            15.666667         54.666667\n",
            "1             8.833333         63.833333\n",
            "2            14.000000         60.166667\n",
            "3            13.166667         64.166667\n",
            "4            11.333333         50.333333\n",
            "5            11.166667         64.500000\n",
            "6            16.500000         66.333333\n",
            "7            18.833333         56.500000\n",
            "8            14.000000         64.666667\n",
            "9            10.666667         53.500000\n",
            "\n",
            "Extreme Conditions each day:\n",
            "  Hottest City Most Humid City\n",
            "0       City D          City A\n",
            "1       City B          City A\n",
            "2       City C          City D\n",
            "3       City D          City B\n",
            "4       City C          City F\n",
            "5       City E          City D\n",
            "6       City A          City A\n",
            "7       City F          City D\n",
            "8       City C          City A\n",
            "9       City A          City F\n",
            "\n",
            "Data Frame for Normalized Temperature Data:\n",
            "     City A    City B    City C    City D   City E    City F\n",
            "0  0.108108  1.000000  0.400000  1.000000  0.75000  0.117647\n",
            "1  0.000000  0.882353  0.114286  0.103448  0.37500  0.558824\n",
            "2  0.459459  0.000000  0.942857  0.413793  0.12500  0.970588\n",
            "3  0.000000  0.882353  0.371429  0.724138  0.34375  0.558824\n",
            "4  0.189189  0.647059  1.000000  0.517241  0.12500  0.000000\n",
            "5  0.351351  0.205882  0.514286  0.275862  1.00000  0.117647\n",
            "6  0.945946  0.058824  0.514286  0.000000  0.84375  0.941176\n",
            "7  0.189189  0.558824  0.742857  0.655172  0.71875  1.000000\n",
            "8  0.243243  0.352941  0.885714  0.482759  0.25000  0.735294\n",
            "9  1.000000  0.029412  0.000000  0.310345  0.00000  0.941176\n",
            "\n",
            "Data Frame for Normalized Humidity Data:\n",
            "     City A    City B    City C    City D    City E    City F\n",
            "0  0.953488  0.320755  0.162791  0.069767  0.142857  0.578947\n",
            "1  1.000000  0.245283  1.000000  0.279070  0.238095  0.789474\n",
            "2  0.651163  0.000000  0.441860  0.813953  1.000000  0.131579\n",
            "3  0.720930  1.000000  0.186047  0.627907  0.047619  0.842105\n",
            "4  0.000000  0.509434  0.000000  0.209302  0.214286  0.657895\n",
            "5  0.744186  0.528302  0.790698  1.000000  0.428571  0.000000\n",
            "6  1.000000  0.188679  0.604651  1.000000  0.142857  1.000000\n",
            "7  0.069767  0.283019  0.093023  1.000000  0.357143  0.710526\n",
            "8  1.000000  0.698113  0.697674  0.000000  0.642857  0.500000\n",
            "9  0.651163  0.207547  0.255814  0.255814  0.000000  0.736842\n",
            "\n",
            "Days with Temperature-Humidity Discrepancies:\n",
            "City A: [0, 1, 2, 3, 4, 5, 6, 7, 8, 9]\n",
            "City B: [2, 3, 4, 5, 6, 7, 8, 9]\n",
            "City C: [0, 1, 2, 3, 5, 6, 8, 9]\n",
            "City D: [1, 2, 3, 4, 5, 6, 7, 8, 9]\n",
            "City E: [1, 2, 3, 4, 5, 7, 8, 9]\n",
            "City F: [0, 1, 2, 3, 4, 5, 6, 7, 8, 9]\n",
            "\n",
            "Overall Climate Pattern Detection:\n",
            "0      Cold and Dry\n",
            "1    Cold and Humid\n",
            "2    Cold and Humid\n",
            "3    Cold and Humid\n",
            "4      Cold and Dry\n",
            "5    Cold and Humid\n",
            "6    Cold and Humid\n",
            "7      Cold and Dry\n",
            "8    Cold and Humid\n",
            "9      Cold and Dry\n",
            "Name: Climate Category, dtype: object\n"
          ]
        }
      ]
    }
  ]
}