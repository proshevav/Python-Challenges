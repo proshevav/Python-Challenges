{
  "nbformat": 4,
  "nbformat_minor": 0,
  "metadata": {
    "colab": {
      "provenance": [],
      "toc_visible": true
    },
    "kernelspec": {
      "name": "python3",
      "display_name": "Python 3"
    },
    "language_info": {
      "name": "python"
    }
  },
  "cells": [
    {
      "cell_type": "markdown",
      "metadata": {
        "id": "1fb777c7"
      },
      "source": [
        "# Task 1 (2 points)\n",
        "\n",
        "Write a function that takes a list of integers and returns a new list where:\n",
        "\n",
        " - If the number is positive, subtract 2 from it.\n",
        "\n",
        " - If the number is negative, add 3 to it.\n",
        "\n",
        " - If the number is zero, leave it unchanged."
      ]
    },
    {
      "cell_type": "markdown",
      "source": [
        "### Solution"
      ],
      "metadata": {
        "id": "eYbZjEpjx8Qb"
      }
    },
    {
      "cell_type": "code",
      "source": [
        "def modify_list(list_integer):\n",
        "  for i in range(len(list_integer)): #iterate through list\n",
        "    num = list_integer[i]\n",
        "    if num > 0:\n",
        "      list_integer[i] = num - 2 #if number is positive, subtract 2\n",
        "    elif num < 0:\n",
        "      list_integer[i] = num + 3 #if number is negative, add 3\n",
        "    else:\n",
        "      list_integer[i] = num #leave unchanged for 0\n",
        "  return list_integer\n",
        "\n",
        "input_list = [1, -2, 0, 7, 10]\n",
        "print(modify_list(input_list))"
      ],
      "metadata": {
        "id": "7MXXsRZ2x_Oi",
        "colab": {
          "base_uri": "https://localhost:8080/"
        },
        "outputId": "41af617d-36ce-4f00-be32-366cd32bed9d"
      },
      "execution_count": 7,
      "outputs": [
        {
          "output_type": "stream",
          "name": "stdout",
          "text": [
            "[-1, 1, 0, 5, 8]\n"
          ]
        }
      ]
    },
    {
      "cell_type": "markdown",
      "metadata": {
        "id": "6942c7f4"
      },
      "source": [
        "# Task 2 (3 points)\n",
        "\n",
        "Write a function that takes a dictionary where the keys are strings, and\n",
        "the values are lists of integers.\n",
        "\n",
        "The function should return a new dictionary where each key points to a new list that contains only the even numbers from the original list."
      ]
    },
    {
      "cell_type": "markdown",
      "source": [
        "### Solution"
      ],
      "metadata": {
        "id": "24FxYCeRyHDe"
      }
    },
    {
      "cell_type": "code",
      "source": [
        "def even_numbers_dict(input_dict):\n",
        "  return {key: [num for num in value if num % 2 == 0] for key, value in input_dict.items()} #create a new list with only even numbers by key values\n",
        "\n",
        "input_dict = {\n",
        "    \"a\": [1, 3, 5, 9, 22],\n",
        "    \"b\": [24, 4, 3, 7],\n",
        "    \"c\": [2, 4, 6, 8],\n",
        "    \"d\": [1, 3, 5]\n",
        "}\n",
        "\n",
        "print(even_numbers_dict(input_dict))"
      ],
      "metadata": {
        "id": "7bHBzENwyJOs",
        "colab": {
          "base_uri": "https://localhost:8080/"
        },
        "outputId": "e9d0cac1-8f24-4e53-ed15-ecbe0da24396"
      },
      "execution_count": 17,
      "outputs": [
        {
          "output_type": "stream",
          "name": "stdout",
          "text": [
            "{'a': [22], 'b': [24, 4], 'c': [2, 4, 6, 8], 'd': []}\n"
          ]
        }
      ]
    },
    {
      "cell_type": "markdown",
      "metadata": {
        "id": "aa716b5f"
      },
      "source": [
        "# Task 3 (3 points)\n",
        "\n",
        "Write a function that takes a dictionary where keys are words (strings), and values are the lengths of those words (integers).\n",
        "\n",
        "Return a new dictionary where:\n",
        "\n",
        " - Words of length 3 or less are classified as \"short\"\n",
        "\n",
        "- Words of length 4-6 are \"medium\"\n",
        "- Words longer than 6 are \"long\""
      ]
    },
    {
      "cell_type": "markdown",
      "source": [
        "### Solution"
      ],
      "metadata": {
        "id": "Ju-ww4xFyoBa"
      }
    },
    {
      "cell_type": "code",
      "source": [
        "def word_length_dict(input_dict):\n",
        "  result_dict = {}\n",
        "  for word, length in input_dict.items(): #iterate through dictionary\n",
        "    if length <= 3:\n",
        "      result_dict[word] = \"short\" #if length less or 3, set to short\n",
        "    elif 4 <= length <= 6:\n",
        "      result_dict[word] = \"medium\" #if length 4-6, set to medium\n",
        "    else:\n",
        "      result_dict[word] = \"long\" #if length bigger than 6, set to long\n",
        "  return result_dict\n",
        "\n",
        "input_dict = {\n",
        "    \"book\": 4,\n",
        "    \"photo\": 5,\n",
        "    \"python\": 6,\n",
        "    \"bed\": 3,\n",
        "    \"brainster\": 9\n",
        "}\n",
        "\n",
        "print(word_length_dict(input_dict))"
      ],
      "metadata": {
        "id": "N74w_SO3ypYJ",
        "colab": {
          "base_uri": "https://localhost:8080/"
        },
        "outputId": "bb0de6a3-cdf7-470d-e6cd-325aacca810d"
      },
      "execution_count": 16,
      "outputs": [
        {
          "output_type": "stream",
          "name": "stdout",
          "text": [
            "{'book': 'medium', 'photo': 'medium', 'python': 'medium', 'bed': 'short', 'brainster': 'long'}\n"
          ]
        }
      ]
    },
    {
      "cell_type": "markdown",
      "metadata": {
        "id": "53dff3de"
      },
      "source": [
        "# Problem 4 (12 + 5 bonus points):\n",
        "\n",
        "You are provided with a list of sales records, where each record is a dictionary representing a sale.\n",
        "\n",
        "Each dictionary has the following structure:\n",
        "\n",
        "\n",
        "\n",
        "> sales_records =\n",
        "\n",
        "    [\n",
        "\n",
        "    {\"id\": 1, \"product\": \"Laptop\", \"price\": 1200, \"quantity\": 2, \"region\": \"North\"},\n",
        "\n",
        "    {\"id\": 2, \"product\": \"Tablet\", \"price\": 300, \"quantity\": 5, \"region\": \"West\"},\n",
        "\n",
        "    {\"id\": 3, \"product\": \"Smartphone\", \"price\": 800, \"quantity\": 3, \"region\": \"East\"},\n",
        "\n",
        "    {\"id\": 4, \"product\": \"Laptop\", \"price\": 1500, \"quantity\": 1, \"region\": \"South\"},\n",
        "\n",
        "    {\"id\": 5, \"product\": \"Smartphone\", \"price\": 750, \"quantity\": 4, \"region\": \"West\"}\n",
        "\n",
        "    ]\n",
        "\n",
        "\n"
      ]
    },
    {
      "cell_type": "markdown",
      "source": [
        "Your task is to perform the following analyses:\n"
      ],
      "metadata": {
        "id": "7rTQC5mlc293"
      }
    },
    {
      "cell_type": "markdown",
      "source": [
        "1. **Calculate Total Revenue for Each Product** (3 points)\n",
        "\n",
        "\n",
        "\n",
        "\n",
        "Write a function that calculates the total revenue generated for each product. The total revenue for a product is the sum of price * quantity for all sales of that product."
      ],
      "metadata": {
        "id": "JhXScofodIDm"
      }
    },
    {
      "cell_type": "markdown",
      "source": [
        "\n",
        "\n",
        "2. **Find the Region with the Highest Sales Quantity** (3 points)\n",
        "\n",
        "Write a function that identifies which region has the highest total sales quantity (sum of quantity for all products sold in that region)."
      ],
      "metadata": {
        "id": "vLrACf5_dLV4"
      }
    },
    {
      "cell_type": "markdown",
      "source": [
        "3. **Filter Products Sold for More than a Certain Price** (3 points)\n",
        "\n",
        "Write a function that filters and returns a list of sales records where the price of the product is greater than a given threshold."
      ],
      "metadata": {
        "id": "c9jOaJUadLhU"
      }
    },
    {
      "cell_type": "markdown",
      "source": [
        "4. **Create a Summary by Region** (3 points)\n",
        "\n",
        "Write a function that returns a summary dictionary where each region is a key, and the value is another dictionary containing:\n",
        "\n",
        "    \"total_sales\": the total revenue generated from that region\n",
        "\n",
        "    \"products_sold\": a set of unique products sold in that region"
      ],
      "metadata": {
        "id": "-gd7JKK3dLpb"
      }
    },
    {
      "cell_type": "markdown",
      "source": [
        "***Bonus demand***: **Identify the Best-Selling Product** (5 points)\n",
        "\n",
        "Write a function that returns the product with the highest total sales quantity across all regions."
      ],
      "metadata": {
        "id": "qwjOzvxrdkDM"
      }
    },
    {
      "cell_type": "markdown",
      "source": [
        "### Solution"
      ],
      "metadata": {
        "id": "SHpZuNoKzBGb"
      }
    },
    {
      "cell_type": "code",
      "source": [
        "sales_records = [\n",
        "  {\"id\": 1, \"product\": \"Laptop\", \"price\": 1200, \"quantity\": 2, \"region\": \"North\"},\n",
        "  {\"id\": 2, \"product\": \"Tablet\", \"price\": 300, \"quantity\": 5, \"region\": \"West\"},\n",
        "  {\"id\": 3, \"product\": \"Smartphone\", \"price\": 800, \"quantity\": 3, \"region\": \"East\"},\n",
        "  {\"id\": 4, \"product\": \"Laptop\", \"price\": 1500, \"quantity\": 1, \"region\": \"South\"},\n",
        "  {\"id\": 5, \"product\": \"Smartphone\", \"price\": 750, \"quantity\": 4, \"region\": \"West\"}\n",
        "]\n",
        "\n",
        "\n",
        "#Calculate Total Revenue for Each Product\n",
        "def calculate_total_revenue(sales_records):\n",
        "  revenue_by_product = {}\n",
        "  for record in sales_records: #iterate through sales_records\n",
        "    product = record[\"product\"]\n",
        "    total_sale = record[\"price\"] * record[\"quantity\"] #get the product and calculate the total sale\n",
        "    if product in revenue_by_product:\n",
        "      revenue_by_product[product] += total_sale  #if the product is already in the dictionary, add the total sale\n",
        "    else:\n",
        "      revenue_by_product[product] = total_sale #if the product is not in the dictionary, add it with the total sale\n",
        "  return revenue_by_product\n",
        "\n",
        "\n",
        "#Find the Region with the Highest Sales Quantity\n",
        "def find_region_with_highest_sales(sales_records):\n",
        "  sales_by_region = {}\n",
        "  for record in sales_records: #iterate through sales_records\n",
        "    region = record[\"region\"]\n",
        "    quantity = record[\"quantity\"] #get the region and quantity\n",
        "    if region in sales_by_region:\n",
        "      sales_by_region[region] += quantity #if the region is already in the dictionary, add the quantity\n",
        "    else:\n",
        "      sales_by_region[region] = quantity #if the region is not in the dictionary, add new record with the quantity\n",
        "\n",
        "  max_sales_region = max(sales_by_region, key=sales_by_region.get) #find region with the highest quantity\n",
        "  return max_sales_region\n",
        "\n",
        "\n",
        "#Filter Products Sold for More than a Certain Price\n",
        "def filter_products_by_price(sales_records, price_b):\n",
        "  filtered_sales = [record for record in sales_records if record[\"price\"] > price_b] #iterate through sales_records and check if price is bigger than a certain price\n",
        "  return filtered_sales\n",
        "\n",
        "\n",
        "#Create a Summary by Region\n",
        "def create_summary_by_region(sales_records):\n",
        "  summary_by_region = {}\n",
        "  for record in sales_records: #iterate through sales_records\n",
        "    region = record[\"region\"]\n",
        "    product = record[\"product\"]\n",
        "    total_sale = record[\"price\"] * record[\"quantity\"] #get the region. product and calculate total sale\n",
        "\n",
        "    if region not in summary_by_region:\n",
        "      summary_by_region[region] = {\n",
        "        \"total_sales\": 0,\n",
        "        \"products_sold\": set()\n",
        "      }\n",
        "\n",
        "    summary_by_region[region][\"total_sales\"] += total_sale #add the total sale\n",
        "    summary_by_region[region][\"products_sold\"].add(product) #add the product\n",
        "\n",
        "  return summary_by_region\n",
        "\n",
        "\n",
        "print(calculate_total_revenue(sales_records))\n",
        "print(find_region_with_highest_sales(sales_records))\n",
        "print(filter_products_by_price(sales_records, 700))\n",
        "print(create_summary_by_region(sales_records))\n",
        "\n",
        "\n",
        "#Identify the Best-Selling Product\n",
        "def best_selling_product(sales_records):\n",
        "  sales_quantity_by_product = {}\n",
        "  for record in sales_records: #iterate through sales_records\n",
        "    product = record[\"product\"]\n",
        "    quantity = record[\"quantity\"] #get the product and quantity\n",
        "    if product in sales_quantity_by_product:\n",
        "      sales_quantity_by_product[product] += quantity #if the product is already in the dictionary, add the quantity\n",
        "    else:\n",
        "      sales_quantity_by_product[product] = quantity #if the product is not in the dictionary, add new record with the quantity\n",
        "\n",
        "  best_product = max(sales_quantity_by_product, key=sales_quantity_by_product.get) #find product with highest quantity sales\n",
        "  return best_product\n",
        "\n",
        "print(best_selling_product(sales_records))"
      ],
      "metadata": {
        "id": "UIjTa6AizCHE",
        "colab": {
          "base_uri": "https://localhost:8080/"
        },
        "outputId": "909b8219-5b3d-4366-9b91-7712d780ba04"
      },
      "execution_count": 33,
      "outputs": [
        {
          "output_type": "stream",
          "name": "stdout",
          "text": [
            "{'Laptop': 3900, 'Tablet': 1500, 'Smartphone': 5400}\n",
            "West\n",
            "[{'id': 1, 'product': 'Laptop', 'price': 1200, 'quantity': 2, 'region': 'North'}, {'id': 3, 'product': 'Smartphone', 'price': 800, 'quantity': 3, 'region': 'East'}, {'id': 4, 'product': 'Laptop', 'price': 1500, 'quantity': 1, 'region': 'South'}, {'id': 5, 'product': 'Smartphone', 'price': 750, 'quantity': 4, 'region': 'West'}]\n",
            "{'North': {'total_sales': 2400, 'products_sold': {'Laptop'}}, 'West': {'total_sales': 4500, 'products_sold': {'Smartphone', 'Tablet'}}, 'East': {'total_sales': 2400, 'products_sold': {'Smartphone'}}, 'South': {'total_sales': 1500, 'products_sold': {'Laptop'}}}\n",
            "Smartphone\n"
          ]
        }
      ]
    }
  ]
}