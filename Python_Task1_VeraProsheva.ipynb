{
  "nbformat": 4,
  "nbformat_minor": 0,
  "metadata": {
    "colab": {
      "provenance": [],
      "toc_visible": true,
      "collapsed_sections": [
        "1fb777c7",
        "6942c7f4",
        "aa716b5f",
        "53dff3de",
        "X4Nj39BhSkli",
        "tcP6D4acTqkx"
      ]
    },
    "kernelspec": {
      "name": "python3",
      "display_name": "Python 3"
    },
    "language_info": {
      "name": "python"
    }
  },
  "cells": [
    {
      "cell_type": "markdown",
      "metadata": {
        "id": "1fb777c7"
      },
      "source": [
        "# Task 1 (2 points + 2 bonus points)\n",
        "\n",
        "Write a program that ask a user to input an integer.\n",
        "\n",
        "Then:\n",
        "\n",
        "1. Write a function that converts the integer from decimal to binary. (4 points)\n",
        "    \n",
        "2. Write a function that converts the integer from decimal to binary (using recursion) (4 bonus points)\n",
        "    \n",
        "**Hints**:\n",
        "\n",
        "- Read into the function **bin()** in Python.\n",
        "- How to convert a decimal number to binary number : https://www.cuemath.com/numbers/decimal-to-binary/"
      ]
    },
    {
      "cell_type": "markdown",
      "source": [
        "### Solution"
      ],
      "metadata": {
        "id": "eYbZjEpjx8Qb"
      }
    },
    {
      "cell_type": "code",
      "source": [
        "integer_x = int(input(\"Enter some integer: \")) #input integer\n",
        "\n",
        "def convert_bin(n):\n",
        "  bin_x = bin(n)[2:] #use bin() function to convert to binary, slicing off '0b' prefix\n",
        "  return bin_x\n",
        "\n",
        "def convert_bin_rec(n): #convert to binary using recursion\n",
        "    if n == 0:\n",
        "        return '0'\n",
        "    elif n == 1:\n",
        "        return '1'\n",
        "    else:\n",
        "        return convert_bin_rec(n // 2) + str(n % 2) #divide n by 2 and append the remainder to the result, recursive call\n",
        "\n",
        "print(convert_bin(integer_x))\n",
        "print(convert_bin_rec(integer_x))"
      ],
      "metadata": {
        "id": "7MXXsRZ2x_Oi",
        "colab": {
          "base_uri": "https://localhost:8080/"
        },
        "outputId": "cb07ff10-3c55-4134-bc6d-42d3b56bc73e"
      },
      "execution_count": null,
      "outputs": [
        {
          "output_type": "stream",
          "name": "stdout",
          "text": [
            "Enter some integer: 4\n",
            "100\n",
            "100\n"
          ]
        }
      ]
    },
    {
      "cell_type": "markdown",
      "metadata": {
        "id": "6942c7f4"
      },
      "source": [
        "# Task 2 (2 points)\n",
        "\n",
        "Ask a user to input an integer. Then, write a function that checks if the inputted number is a prime number. The function should return True if the number is prime, otherwise it should return False.\n",
        "\n",
        "**Hint**: Prime numbers are natural numbers that are divisible by only 1 and the number itself."
      ]
    },
    {
      "cell_type": "markdown",
      "source": [
        "### Solution"
      ],
      "metadata": {
        "id": "24FxYCeRyHDe"
      }
    },
    {
      "cell_type": "code",
      "source": [
        "import math\n",
        "\n",
        "integer_x = int(input(\"Enter some integer: \")) #input integer\n",
        "\n",
        "def is_prime(n):\n",
        "  if n <= 1: #if n is less than or equal to 1, its not prime\n",
        "    return False\n",
        "  else:\n",
        "    is_prime_n = True #set initially to true\n",
        "    for i in range(2, int(math.sqrt(n)) + 1):\n",
        "      if n % i == 0:\n",
        "        is_prime_n = False #if n is divisible by any number in this range, its not prime\n",
        "        break\n",
        "    return is_prime_n\n",
        "\n",
        "\n",
        "print(is_prime(integer_x))"
      ],
      "metadata": {
        "id": "7bHBzENwyJOs",
        "colab": {
          "base_uri": "https://localhost:8080/"
        },
        "outputId": "f8b8b1d2-bc78-4d8a-ea18-85297249ab87"
      },
      "execution_count": null,
      "outputs": [
        {
          "output_type": "stream",
          "name": "stdout",
          "text": [
            "Enter some integer: 7\n",
            "True\n"
          ]
        }
      ]
    },
    {
      "cell_type": "markdown",
      "metadata": {
        "id": "aa716b5f"
      },
      "source": [
        "# Task 3 (2 points)\n",
        "\n",
        "Given the list x = [1, 2, 3, 5, 7, 8, 10, 11, 14, 15, 16, 17], write a function that finds all sublists in x containing consecutive numbers.\n",
        "\n",
        "Example:\n",
        "\n",
        "    Input: x = [1, 2, 3, 5, 7, 8, 10, 11, 14, 15, 16, 17]\n",
        "    \n",
        "    Output:\n",
        "    \n",
        "         [[1, 2, 3], [5], [7, 8], [10, 11], [14, 15, 16, 17]]"
      ]
    },
    {
      "cell_type": "markdown",
      "source": [
        "### Solution"
      ],
      "metadata": {
        "id": "Ju-ww4xFyoBa"
      }
    },
    {
      "cell_type": "code",
      "source": [
        "x = [1, 2, 3, 5, 7, 8, 10, 11, 14, 15, 16, 17]\n",
        "\n",
        "def find_consecutive_sublists(x):\n",
        "  if not x:\n",
        "    return []  #return an empty list if x is empty\n",
        "\n",
        "  result = []\n",
        "  current_sublist = [x[0]]\n",
        "\n",
        "  for i in range(1, len(x)): #iterating through the list starting from index 1\n",
        "    if x[i] == x[i - 1] + 1: #if the current element is consecutive\n",
        "      current_sublist.append(x[i]) #if true, add to list\n",
        "    else:\n",
        "      result.append(current_sublist)\n",
        "      current_sublist = [x[i]] #if not, append the current sublist to result and add start new sublist\n",
        "\n",
        "  result.append(current_sublist)\n",
        "  return result\n",
        "\n",
        "print(find_consecutive_sublists(x))"
      ],
      "metadata": {
        "id": "N74w_SO3ypYJ",
        "colab": {
          "base_uri": "https://localhost:8080/"
        },
        "outputId": "ae66056c-9011-4c85-b966-0def6e855c68"
      },
      "execution_count": null,
      "outputs": [
        {
          "output_type": "stream",
          "name": "stdout",
          "text": [
            "[[1, 2, 3], [5], [7, 8], [10, 11], [14, 15, 16, 17]]\n"
          ]
        }
      ]
    },
    {
      "cell_type": "markdown",
      "metadata": {
        "id": "53dff3de"
      },
      "source": [
        "# Problem 4 (2 points):\n",
        "\n",
        "Given two dictionaries (like in the example), write a function that constructs and returns a new dictionary called **color_values** that contains the values for the secondary colors.\n",
        "    \n",
        "Examples:\n",
        "\n",
        "    Input:\n",
        "        \n",
        "        primary_colors = {'red' : 10, 'blue' : 20, 'yellow' : 30}\n",
        "\n",
        "        secondary_colors = {'purple' : 'red and blue', 'orange' : 'red and yellow', 'green' : 'blue and yellow'}\n",
        "\n",
        "    Output:\n",
        "    \n",
        "        color_values = {'purple' : 30, 'orange' : 40, 'green' : 50}"
      ]
    },
    {
      "cell_type": "markdown",
      "source": [
        "### Solution"
      ],
      "metadata": {
        "id": "SHpZuNoKzBGb"
      }
    },
    {
      "cell_type": "code",
      "source": [
        "def get_secondary_colors(primary_colors, secondary_colors):\n",
        "  color_values = {}\n",
        "\n",
        "  for secondary_color, primary_pair in secondary_colors.items():  #iteratinh through each secondary color and its corresponding primary color pair\n",
        "    primary_color1, primary_color2 = primary_pair.split(' and ') #split into two separate colors\n",
        "    color_value = primary_colors.get(primary_color1, 0) + primary_colors.get(primary_color2, 0) #calculate the color value by adding the values of the two primary colors\n",
        "    color_values[secondary_color] = color_value\n",
        "  return color_values\n",
        "\n",
        "primary_colors = {'red': 10, 'blue': 20, 'yellow': 30}\n",
        "secondary_colors = {'purple': 'red and blue', 'orange': 'red and yellow', 'green': 'blue and yellow'}\n",
        "\n",
        "print(get_secondary_colors(primary_colors, secondary_colors))"
      ],
      "metadata": {
        "id": "UIjTa6AizCHE",
        "colab": {
          "base_uri": "https://localhost:8080/"
        },
        "outputId": "02102a08-83a4-4da5-ae13-69210a1d67db"
      },
      "execution_count": null,
      "outputs": [
        {
          "output_type": "stream",
          "name": "stdout",
          "text": [
            "{'purple': 30, 'orange': 40, 'green': 50}\n"
          ]
        }
      ]
    },
    {
      "cell_type": "markdown",
      "source": [
        "# Exercise 8\n",
        "Define a list of integers.\n",
        "\n",
        "Find the first occurrence of an odd number in the list.\n",
        "\n",
        "Note: We can use a break statement to exit the loop at the point we want to, before its natural end."
      ],
      "metadata": {
        "id": "X4Nj39BhSkli"
      }
    },
    {
      "cell_type": "code",
      "source": [
        "import random\n",
        "\n",
        "n, a, b = 7, 20, 100\n",
        "\n",
        "l = []\n",
        "\n",
        "for _ in range(n):\n",
        "  l.append(random.randint(a, b)) #generate random integers and add them to list\n",
        "\n",
        "print(f'l = {l}\\n')\n",
        "\n",
        "i = 0\n",
        "\n",
        "while i < len(l):\n",
        "  if l[i] % 2 != 0: #if number is not divisible by 2 its odd\n",
        "    print(f'The first odd number in {l} is {l[i]} at index {i}.')\n",
        "    break\n",
        "  else:\n",
        "    i = i + 1"
      ],
      "metadata": {
        "colab": {
          "base_uri": "https://localhost:8080/"
        },
        "id": "DfQRIK8QSoXh",
        "outputId": "9667e1a0-ef1c-4e61-ba2b-6cabe73ee1da"
      },
      "execution_count": null,
      "outputs": [
        {
          "output_type": "stream",
          "name": "stdout",
          "text": [
            "l = [57, 33, 94, 39, 66, 50, 39]\n",
            "\n",
            "The first odd number in [57, 33, 94, 39, 66, 50, 39] is 57 at index 0.\n"
          ]
        }
      ]
    },
    {
      "cell_type": "markdown",
      "source": [
        "# Exercise 9\n",
        "Define a list of integers.\n",
        "\n",
        "Find the last occurrence of an even number in the list."
      ],
      "metadata": {
        "id": "tcP6D4acTqkx"
      }
    },
    {
      "cell_type": "code",
      "source": [
        "n, a, b = 7, 20, 100\n",
        "\n",
        "l = []\n",
        "\n",
        "for _ in range(n):\n",
        "  l.append(random.randint(a, b)) #generate random integers and add them to list\n",
        "\n",
        "print(f'l = {l}\\n')\n",
        "\n",
        "i = len(l) - 1\n",
        "\n",
        "while i >= 0:\n",
        "  if l[i] % 2 == 0: #if number is divisible by 2 its even\n",
        "    print(f'The last even number in {l} is {l[i]} at index {i}.')\n",
        "    break\n",
        "  i = i - 1"
      ],
      "metadata": {
        "colab": {
          "base_uri": "https://localhost:8080/"
        },
        "id": "EqAdIJF1Tr_l",
        "outputId": "6f698ade-87fb-48df-a65e-2c84840656df"
      },
      "execution_count": null,
      "outputs": [
        {
          "output_type": "stream",
          "name": "stdout",
          "text": [
            "l = [74, 99, 54, 77, 34, 43, 75]\n",
            "\n",
            "The last even number in [74, 99, 54, 77, 34, 43, 75] is 34 at index 4.\n"
          ]
        }
      ]
    },
    {
      "cell_type": "markdown",
      "source": [
        "# Exercise 10\n",
        "\n",
        "Define a tuple of integers.\n",
        "\n",
        "Iterate over all elements of the tuple and whenever an element is even replace its value with 0. If an element is odd, replace its value with 1.\n",
        "\n",
        "Save the results in a new tuple. Do not modify the original one.\n",
        "\n",
        "Then, make a string that will contain each element from the resulting tuple as a separate symbol in the string."
      ],
      "metadata": {
        "id": "BtOPFChJs9E5"
      }
    },
    {
      "cell_type": "code",
      "source": [
        "x = (7, 5, 6, 3, 2)\n",
        "list_x = list(x) #convert tuple to list\n",
        "\n",
        "for i, item in enumerate(x): #iterating through each item in the tuple\n",
        "\n",
        "  if item % 2 == 0:\n",
        "    list_x[i] = 0 #if the item is even, set to 0\n",
        "  else:\n",
        "    list_x[i] = 1 #if the item is even, set to 1\n",
        "\n",
        "result = tuple(list_x) #convert back to tuple\n",
        "print(f'result = {result}\\n')\n",
        "\n",
        "result_str = \"\"\n",
        "for item in result:\n",
        "  result_str += str(item) #concatenate to string\n",
        "print(f'result_str = {result_str}')"
      ],
      "metadata": {
        "colab": {
          "base_uri": "https://localhost:8080/"
        },
        "id": "wXeEBA3is_Ga",
        "outputId": "f1bf18a4-e854-4f4f-cb4a-56dfe422dff5"
      },
      "execution_count": 1,
      "outputs": [
        {
          "output_type": "stream",
          "name": "stdout",
          "text": [
            "result = (1, 1, 0, 1, 0)\n",
            "\n",
            "result_str = 11010\n"
          ]
        }
      ]
    }
  ]
}